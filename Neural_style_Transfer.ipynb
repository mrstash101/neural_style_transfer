{
  "nbformat": 4,
  "nbformat_minor": 0,
  "metadata": {
    "colab": {
      "name": "Neural_style_Transfer.ipynb",
      "provenance": [],
      "collapsed_sections": [],
      "authorship_tag": "ABX9TyNzsRKm9kJZSNl00CrvCP6S",
      "include_colab_link": true
    },
    "kernelspec": {
      "name": "python3",
      "display_name": "Python 3"
    },
    "language_info": {
      "name": "python"
    }
  },
  "cells": [
    {
      "cell_type": "markdown",
      "metadata": {
        "id": "view-in-github",
        "colab_type": "text"
      },
      "source": [
        "<a href=\"https://colab.research.google.com/github/mrstash101/neural_style_transfer/blob/main/Neural_style_Transfer.ipynb\" target=\"_parent\"><img src=\"https://colab.research.google.com/assets/colab-badge.svg\" alt=\"Open In Colab\"/></a>"
      ]
    },
    {
      "cell_type": "code",
      "metadata": {
        "id": "G7_fgWsCtHY3"
      },
      "source": [
        "#Importing the librarieies\n",
        "import torch\n",
        "import torchvision.transforms as transforms\n",
        "from PIL import Image\n",
        "import torch.nn as nn\n",
        "import torchvision.models as models\n",
        "import torch.optim as optim\n",
        "from torchvision.utils import save_image\n",
        "import matplotlib.pyplot as plt"
      ],
      "execution_count": 1,
      "outputs": []
    },
    {
      "cell_type": "code",
      "metadata": {
        "id": "RxaT8KcWt2BC"
      },
      "source": [
        "#Loading the model\n",
        "#VGG=畳み込むニューラルネットワークモデル\n",
        "model = models.vgg19(pretrained=True).features\n",
        "\n",
        "device = torch.device(\"cuda\")"
      ],
      "execution_count": 3,
      "outputs": []
    },
    {
      "cell_type": "code",
      "metadata": {
        "id": "9NVUic1ju_E_"
      },
      "source": [
        "class VGG(nn.Module):\n",
        "  def __init__(self):\n",
        "    super(VGG,self).__init__()\n",
        "\n",
        "    self.req_features= ['0','5','10','19','28'] \n",
        "    self.model=models.vgg19(pretrained=True).features[:29]"
      ],
      "execution_count": 4,
      "outputs": []
    },
    {
      "cell_type": "code",
      "metadata": {
        "id": "1k6KZr8Lu-VB"
      },
      "source": [
        "def forward(self, x):\n",
        "  features=[]\n",
        "  for layer_num, layer in enumerate(self.model):\n",
        "    x=layer(x)\n",
        "\n",
        "    if(str(layer_num) in self.req_features):\n",
        "      features.append(x)\n",
        "      \n",
        "  return features"
      ],
      "execution_count": 11,
      "outputs": []
    },
    {
      "cell_type": "code",
      "metadata": {
        "id": "vfjNr8KHu9wu"
      },
      "source": [
        "def image_loader(path):\n",
        "  image=Image.open(path)\n",
        "  loader=transforms.Compose([transforms.Resize((512,512)),transforms.ToTensor()])\n",
        "\n",
        "  image=loader(image).unsqueeze(0)\n",
        "  return image.to(device,torch.float)\n",
        "\n",
        "  original_image=image_loader('#')\n",
        "  style_image=image_loader('#')"
      ],
      "execution_count": 12,
      "outputs": []
    },
    {
      "cell_type": "code",
      "metadata": {
        "id": "87IQgwYQytsJ"
      },
      "source": [
        "  original_image=image_loader('#')\n",
        "  style_image=image_loader('#')"
      ],
      "execution_count": null,
      "outputs": []
    },
    {
      "cell_type": "code",
      "metadata": {
        "id": "aiRjWBDJytKv"
      },
      "source": [
        ""
      ],
      "execution_count": null,
      "outputs": []
    },
    {
      "cell_type": "code",
      "metadata": {
        "id": "MixBksmOuhy0"
      },
      "source": [
        "  original_image=image_loader('#')\n",
        "  style_image=image_loader('#')"
      ],
      "execution_count": null,
      "outputs": []
    }
  ]
}